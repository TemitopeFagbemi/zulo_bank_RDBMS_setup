{
 "cells": [
  {
   "cell_type": "code",
   "execution_count": null,
   "id": "e5a4bae5",
   "metadata": {},
   "outputs": [
    {
     "ename": "",
     "evalue": "",
     "output_type": "error",
     "traceback": [
      "\u001b[1;31mFailed to start the Kernel. \n",
      "\u001b[1;31mUnable to start Kernel 'base (Python 3.12.7)' due to a timeout waiting for the ports to get used. \n",
      "\u001b[1;31mView Jupyter <a href='command:jupyter.viewOutput'>log</a> for further details."
     ]
    }
   ],
   "source": [
    "# importing necessary dependencies\n",
    "import pandas as pd\n",
    "from datetime import datetime, timedelta"
   ]
  },
  {
   "cell_type": "code",
   "execution_count": null,
   "id": "c2ea4881",
   "metadata": {},
   "outputs": [],
   "source": [
    "zulo_bank = pd.read_csv('Dataset/zulo_bank.csv')"
   ]
  },
  {
   "cell_type": "code",
   "execution_count": null,
   "id": "9ee6d053",
   "metadata": {},
   "outputs": [],
   "source": [
    "zulo_bank.head(5)"
   ]
  },
  {
   "cell_type": "code",
   "execution_count": null,
   "id": "156e88e4",
   "metadata": {},
   "outputs": [],
   "source": [
    "zulo_bank.info()"
   ]
  },
  {
   "cell_type": "code",
   "execution_count": null,
   "id": "5ea8f492",
   "metadata": {},
   "outputs": [],
   "source": [
    "# clean dataset\n",
    "zulo_bank.fillna({\n",
    "    'LoanAmount': 0.0,\n",
    "    'LoanType': 'Unknown',\n",
    "    'InterestRate': 0.0\n",
    "}, inplace=True)"
   ]
  },
  {
   "cell_type": "code",
   "execution_count": null,
   "id": "b4a463f7",
   "metadata": {},
   "outputs": [],
   "source": [
    "# convert fullName into firstName and lastName\n",
    "zulo_bank[['FirstName', 'LastName']] = zulo_bank['FullName'].str.split(expand=True)\n",
    "zulo_bank.head(5)"
   ]
  },
  {
   "cell_type": "code",
   "execution_count": null,
   "id": "b20fba35",
   "metadata": {},
   "outputs": [],
   "source": [
    "# convert 1NF to 2NF\n",
    "# Create Customer table\n",
    "customer = zulo_bank[['FirstName', 'LastName', 'Email', 'Phone']].copy().drop_duplicates().reset_index(drop=True)\n",
    "customer['Customer_id'] = range(1, len(customer) + 1)\n",
    "customer = customer[['Customer_id', 'FirstName', 'LastName', 'Email', 'Phone']]\n",
    "\n",
    "customer.head(5)"
   ]
  },
  {
   "cell_type": "code",
   "execution_count": null,
   "id": "91338a25",
   "metadata": {},
   "outputs": [],
   "source": [
    "# Create account table\n",
    "account = zulo_bank[['AccountType', 'Balance', 'OpeningDate']].copy().drop_duplicates().reset_index(drop=True)\n",
    "account['Account_id'] = range(1, len(account) + 1)\n",
    "account = account[['Account_id', 'AccountType', 'Balance', 'OpeningDate']]\n",
    "\n",
    "account.head(5)"
   ]
  },
  {
   "cell_type": "code",
   "execution_count": null,
   "id": "cb99331e",
   "metadata": {},
   "outputs": [],
   "source": [
    "# Create transaction table\n",
    "transaction = zulo_bank[['TransactionType', 'Amount', 'TransactionDate']].copy().drop_duplicates().reset_index(drop=True)\n",
    "transaction['Transaction_id'] = range(1, len(transaction) + 1)\n",
    "transaction = transaction[['Transaction_id', 'TransactionType', 'Amount', 'TransactionDate']]\n",
    "\n",
    "transaction.head(5)"
   ]
  },
  {
   "cell_type": "code",
   "execution_count": null,
   "id": "fddcc68c",
   "metadata": {},
   "outputs": [],
   "source": [
    "# Create Loan table\n",
    "loan = zulo_bank[['LoanType', 'LoanAmount', 'StartDate', 'EndDate', 'InterestRate']].copy().drop_duplicates().reset_index(drop=True)\n",
    "loan['Loan_id'] = range(1, len(loan) + 1)\n",
    "loan = loan[['Loan_id', 'LoanType', 'LoanAmount', 'StartDate', 'EndDate', 'InterestRate']]\n",
    "\n",
    "loan.head(5)"
   ]
  },
  {
   "cell_type": "code",
   "execution_count": null,
   "id": "c675bdfc",
   "metadata": {},
   "outputs": [],
   "source": [
    "# Merge all tables to create a Zulo bank table\n",
    "zulo_bank.merge(customer, on=['FirstName', 'LastName', 'Email', 'Phone'], how='left') \\\n",
    "         .merge(account, on=['AccountType', 'Balance', 'OpeningDate'], how='left') \\\n",
    "         .merge(transaction, on=['TransactionType', 'Amount', 'TransactionDate'], how='left') \\\n",
    "         .merge(loan, on=['LoanAmount', 'LoanType', 'StartDate', 'EndDate', 'InterestRate'], how='left') \\\n",
    "         [['Customer_id', 'Account_id', 'Transaction_id', 'Loan_id']]\n"
   ]
  },
  {
   "cell_type": "code",
   "execution_count": null,
   "id": "436b7792",
   "metadata": {},
   "outputs": [],
   "source": [
    "# convert 2NF to 3NF\n",
    "# Create the date dimension table\n",
    "# define the start and end date\n",
    "start_date = datetime(2020, 1, 1)\n",
    "end_date = datetime(2090, 12, 31)\n",
    "\n",
    "# calculate the number of days between start and end date\n",
    "num_days = (end_date - start_date).days\n",
    "\n",
    "# generate a list of dates from start to current date\n",
    "date_list = [start_date + timedelta(days=x) for x in range(num_days + 1)]\n",
    "\n",
    "# Ensure date_id matches the length of date_list\n",
    "date = {'date_id': [x for x in range(1, len(date_list) + 1)], 'date': date_list}\n",
    "\n",
    "# Create Date DataFrame\n",
    "date_dim = pd.DataFrame(date)\n",
    "date_dim['day'] = date_dim['date'].dt.day\n",
    "date_dim['month'] = date_dim['date'].dt.month\n",
    "date_dim['year'] = date_dim['date'].dt.year\n",
    "date_dim['date'] = pd.to_datetime(date_dim['date']).dt.date\n",
    "\n",
    "date_dim.head(5)"
   ]
  },
  {
   "cell_type": "code",
   "execution_count": null,
   "id": "ad93a6da",
   "metadata": {},
   "outputs": [],
   "source": [
    "# Make sure both are datetime.date\n",
    "account['OpeningDate'] = pd.to_datetime(account['OpeningDate']).dt.date\n",
    "date_dim['date'] = pd.to_datetime(date_dim['date']).dt.date  # convert to date only\n",
    "\n",
    "# Now merge\n",
    "account = (\n",
    "    account.merge(date_dim, left_on='OpeningDate', right_on='date', how='inner')\n",
    "           .rename(columns={'date_id': 'OpeningDate_ID'})\n",
    "           .reset_index(drop=True)\n",
    "           [['Account_id', 'AccountType', 'Balance', 'OpeningDate_ID']]\n",
    ")\n",
    "account.head(5)"
   ]
  },
  {
   "cell_type": "code",
   "execution_count": null,
   "id": "02f111d3",
   "metadata": {},
   "outputs": [],
   "source": [
    "# Transaction table 2NF to 3NF\n",
    "transaction['TransactionDate'] = pd.to_datetime(transaction['TransactionDate']).dt.date\n",
    "transaction = (\n",
    "    transaction.merge(date_dim, left_on='TransactionDate', right_on='date', how='inner')\\\n",
    "               .rename(columns={'date_id': 'TransactionDate_ID'})\\\n",
    "               .reset_index(drop=True)\\\n",
    "               [['Transaction_id', 'TransactionType', 'Amount', 'TransactionDate_ID']]\n",
    ")\n",
    "transaction.head(5)"
   ]
  },
  {
   "cell_type": "code",
   "execution_count": null,
   "id": "efb718ae",
   "metadata": {},
   "outputs": [],
   "source": [
    "zulo_bank.columns"
   ]
  },
  {
   "cell_type": "code",
   "execution_count": null,
   "id": "0ae303ff",
   "metadata": {},
   "outputs": [],
   "source": [
    "loan['StartDate'] = pd.to_datetime(\n",
    "    loan['StartDate'].replace(\"Unknown\", pd.NA), \n",
    "    errors='coerce'\n",
    ").dt.date\n",
    "\n",
    "loan['EndDate'] = pd.to_datetime(\n",
    "    loan['EndDate'].replace(\"Unknown\", pd.NA), \n",
    "    errors='coerce'\n",
    ").dt.date\n",
    "\n",
    "loan = loan.dropna(subset=['StartDate', 'EndDate'])\n",
    "\n",
    "loan = (\n",
    "    loan.merge(date_dim, left_on='StartDate', right_on='date', how='inner')\n",
    "        .rename(columns={'date_id': 'StartDate_ID'})\n",
    "        .merge(date_dim, left_on='EndDate', right_on='date', how='inner', suffixes=('', '_end'))\n",
    "        .rename(columns={'date_id': 'EndDate_ID'})\n",
    "        [['Loan_id', 'LoanAmount', 'LoanType', 'StartDate_ID', 'EndDate_ID', 'InterestRate']]\n",
    ")\n",
    "loan.head(5)"
   ]
  },
  {
   "cell_type": "code",
   "execution_count": null,
   "id": "e5ddb43d",
   "metadata": {},
   "outputs": [],
   "source": [
    "# Save the tables as CSV files\n",
    "transaction.to_csv(r'Database_model/transaction.csv', index=False)\n",
    "loan.to_csv(r'Database_model/loan.csv', index=False)\n",
    "account.to_csv(r'Database_model/account.csv', index=False)\n",
    "customer.to_csv(r'Database_model/customer.csv', index=False)\n",
    "date_dim.to_csv(r'Database_model/date_dim.csv', index=False)\n",
    "zulo_bank.to_csv(r'Database_model/zulo_bank_cleaned.csv', index=False)"
   ]
  },
  {
   "cell_type": "markdown",
   "id": "915f0401",
   "metadata": {},
   "source": [
    "#### Transaction DWH Schema"
   ]
  },
  {
   "cell_type": "code",
   "execution_count": null,
   "id": "dcf098fd",
   "metadata": {},
   "outputs": [],
   "source": [
    "transaction_dim = transaction[['Transaction_id', 'TransactionType', ]].copy().drop_duplicates().reset_index(drop=True)\n",
    "account_dim = account[['Account_id', 'AccountType', 'Account_Balance']].copy().drop_duplicates().reset_index(drop=True)\n",
    "\n",
    "transaction_fact_table = zulo_bank.merge(transaction, on='Transaction_id', how='inner') \\\n",
    "                                  .merge(account, on='Account_id', how='inner') \\\n",
    "                                  [['Transaction_id', 'Account_id', 'OpeningDate_ID', 'TransactionDate_ID', 'Amount']]"
   ]
  }
 ],
 "metadata": {
  "kernelspec": {
   "display_name": "base",
   "language": "python",
   "name": "python3"
  },
  "language_info": {
   "codemirror_mode": {
    "name": "ipython",
    "version": 3
   },
   "file_extension": ".py",
   "mimetype": "text/x-python",
   "name": "python",
   "nbconvert_exporter": "python",
   "pygments_lexer": "ipython3",
   "version": "3.12.7"
  }
 },
 "nbformat": 4,
 "nbformat_minor": 5
}
